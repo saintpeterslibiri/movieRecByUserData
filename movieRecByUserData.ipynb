{
  "nbformat": 4,
  "nbformat_minor": 0,
  "metadata": {
    "colab": {
      "provenance": []
    },
    "kernelspec": {
      "name": "python3",
      "display_name": "Python 3"
    },
    "language_info": {
      "name": "python"
    }
  },
  "cells": [
    {
      "cell_type": "code",
      "execution_count": null,
      "metadata": {
        "id": "q5hs05PUemto"
      },
      "outputs": [],
      "source": []
    },
    {
      "cell_type": "code",
      "source": [
        "# Install Data Set\n",
        "tag_df = pd.read_csv(\"/content/drive/MyDrive/movieRecomSystData/tags.csv\")\n",
        "movies_df = pd.read_csv(\"/content/drive/MyDrive/movieRecomSystData/movies.csv\")\n",
        "ratings_df = pd.read_csv(\"/content/drive/MyDrive/movieRecomSystData/ratings.csv\")\n",
        "\n",
        "small_ratings = ratings_df.head(70000)"
      ],
      "metadata": {
        "id": "afbx_yrDhkmc"
      },
      "execution_count": null,
      "outputs": []
    },
    {
      "cell_type": "code",
      "source": [
        "# Take inputs from user\n",
        "user_tags = ['funny', 'family', 'animation']\n",
        "user_movies = [3114, 60756, 1569]"
      ],
      "metadata": {
        "id": "8u0O5upBhlx4"
      },
      "execution_count": null,
      "outputs": []
    },
    {
      "cell_type": "code",
      "source": [
        "# Kullanıcının girdilerini işle\n",
        "#user_tags_list = user_tags.split(',')\n",
        "#user_movies_list = [int(movie_id) for movie_id in user_movies.split(',')]\n"
      ],
      "metadata": {
        "id": "5vI3t4S0hnE7"
      },
      "execution_count": null,
      "outputs": []
    },
    {
      "cell_type": "code",
      "source": [
        "# Combine the user's favorite movies with matching films\n",
        "selected_movies = movies_df[movies_df['movieId'].isin(user_movies)]"
      ],
      "metadata": {
        "id": "Vx3vN03khoKj"
      },
      "execution_count": null,
      "outputs": []
    },
    {
      "cell_type": "code",
      "source": [
        "matching_movies = pd.DataFrame(columns=movies_df.columns)\n",
        "for tag in user_tags:\n",
        "    matching_movies = pd.concat([matching_movies, movies_df[movies_df['genres'].str.contains(tag, case=False)]], ignore_index=True)"
      ],
      "metadata": {
        "id": "GfGymHejhpmV"
      },
      "execution_count": null,
      "outputs": []
    },
    {
      "cell_type": "code",
      "source": [
        "# Kullanıcının sevdiği filmleri ve eşleşen filmleri birleştir\n",
        "user_input_movies = pd.concat([selected_movies, matching_movies], ignore_index=True).drop_duplicates()"
      ],
      "metadata": {
        "id": "e7zen7iDhqwA"
      },
      "execution_count": null,
      "outputs": []
    },
    {
      "cell_type": "code",
      "source": [
        "# Kullanıcının girdilerine göre bir veri seti oluştur\n",
        "user_data = {'userId': [999] * len(user_input_movies),\n",
        "             'movieId': user_input_movies['movieId'].tolist(),\n",
        "             'rating': [5.0] * len(user_input_movies)}\n",
        "user_df = pd.DataFrame(user_data)"
      ],
      "metadata": {
        "id": "a6695q19hsFY"
      },
      "execution_count": null,
      "outputs": []
    },
    {
      "cell_type": "code",
      "source": [
        "# Veri setine kullanıcı girdilerini ekleyin\n",
        "new_ratings_df = pd.concat([small_ratings, user_df], ignore_index=True)"
      ],
      "metadata": {
        "id": "XJtj3P7-htcF"
      },
      "execution_count": null,
      "outputs": []
    },
    {
      "cell_type": "code",
      "source": [
        "# Surprise kütüphanesi için gerekli işlemleri yapın\n",
        "reader = Reader(rating_scale=(1, 5))\n",
        "dataset = Dataset.load_from_df(new_ratings_df[['userId', 'movieId', 'rating']], reader)\n",
        "trainset = dataset.build_full_trainset()"
      ],
      "metadata": {
        "id": "JOLORBz7hud6"
      },
      "execution_count": null,
      "outputs": []
    },
    {
      "cell_type": "code",
      "source": [
        "# KNN modelini eğitin\n",
        "sim_options = {'name': 'cosine', 'user_based': False}\n",
        "model = KNNBasic(sim_options=sim_options)\n",
        "model.fit(trainset)"
      ],
      "metadata": {
        "colab": {
          "base_uri": "https://localhost:8080/"
        },
        "id": "S5gswyq0hv4Z",
        "outputId": "50bbe9d9-16eb-49a0-d979-44716a2b8459"
      },
      "execution_count": null,
      "outputs": [
        {
          "output_type": "stream",
          "name": "stdout",
          "text": [
            "Computing the cosine similarity matrix...\n",
            "Done computing similarity matrix.\n"
          ]
        },
        {
          "output_type": "execute_result",
          "data": {
            "text/plain": [
              "<surprise.prediction_algorithms.knns.KNNBasic at 0x79627338c850>"
            ]
          },
          "metadata": {},
          "execution_count": 15
        }
      ]
    },
    {
      "cell_type": "code",
      "source": [
        "# Kullanıcının için film önerileri yapın\n",
        "user_recommendations = model.get_neighbors(999, k=50)"
      ],
      "metadata": {
        "id": "pWT5ZI6qhw1x"
      },
      "execution_count": null,
      "outputs": []
    },
    {
      "cell_type": "code",
      "source": [
        "# Önerilen filmleri gösterin\n",
        "print(\"Film Önerileri:\")\n",
        "print(movies_df[movies_df['movieId'].isin(user_recommendations)][['movieId', 'title']])"
      ],
      "metadata": {
        "colab": {
          "base_uri": "https://localhost:8080/"
        },
        "id": "_1SQ4_GPhyTk",
        "outputId": "fe57ca2b-d568-4151-f61e-60c49da5d775"
      },
      "execution_count": null,
      "outputs": [
        {
          "output_type": "stream",
          "name": "stdout",
          "text": [
            "Film Önerileri:\n",
            "     movieId                                              title\n",
            "5          6                                        Heat (1995)\n",
            "7          8                                Tom and Huck (1995)\n",
            "14        15                            Cutthroat Island (1995)\n",
            "29        30  Shanghai Triad (Yao a yao yao dao waipo qiao) ...\n",
            "46        47                        Seven (a.k.a. Se7en) (1995)\n",
            "52        53                                    Lamerica (1994)\n",
            "57        58                  Postman, The (Postino, Il) (1994)\n",
            "64        65                                    Bio-Dome (1996)\n",
            "67        68                 French Twist (Gazon maudit) (1995)\n",
            "69        70                         From Dusk Till Dawn (1996)\n",
            "71        72                       Kicking and Screaming (1995)\n",
            "72        73                             Misérables, Les (1995)\n",
            "87        88                                 Black Sheep (1996)\n",
            "93        95                                Broken Arrow (1996)\n",
            "100      102                                   Mr. Wrong (1996)\n",
            "101      103                               Unforgettable (1996)\n",
            "104      106         Nobody Loves Me (Keiner liebt mich) (1994)\n",
            "109      111                                 Taxi Driver (1976)\n",
            "110      112         Rumble in the Bronx (Hont faan kui) (1995)\n",
            "113      115  Happiness Is in the Field (Bonheur est dans le...\n",
            "114      116                       Anne Frank Remembered (1995)\n",
            "125      127  Silences of the Palace, The (Saimt el Qusur) (...\n",
            "126      128                              Jupiter's Wife (1994)\n",
            "136      138                             Neon Bible, The (1995)\n",
            "192      194                                       Smoke (1995)\n",
            "196      198                                Strange Days (1995)\n",
            "201      203  To Wong Foo, Thanks for Everything! Julie Newm...\n",
            "213      215                              Before Sunrise (1995)\n",
            "217      219                                   Cure, The (1995)\n",
            "219      222                           Circle of Friends (1995)\n",
            "223      226                                   Dream Man (1995)\n",
            "225      228                  Destiny Turns on the Radio (1995)\n",
            "227      230                           Dolores Claiborne (1995)\n",
            "230      233                                     Exotica (1994)\n",
            "232      235                                     Ed Wood (1994)\n",
            "235      238  Far From Home: The Adventures of Yellow Dog (1...\n",
            "246      249                            Immortal Beloved (1994)\n",
            "247      250                Heavyweights (Heavy Weights) (1995)\n",
            "249      252                                        I.Q. (1994)\n",
            "250      253  Interview with the Vampire: The Vampire Chroni...\n",
            "254      257                                  Just Cause (1995)\n",
            "255      258               Kid in King Arthur's Court, A (1995)\n",
            "256      259                               Kiss of Death (1995)\n",
            "258      261                                Little Women (1994)\n",
            "261      264                                   Enfer, L' (1994)\n",
            "265      268                               Little Odessa (1994)\n",
            "267      270                                 Love Affair (1994)\n",
            "269      272                 Madness of King George, The (1994)\n",
            "274      277                      Miracle on 34th Street (1994)\n",
            "275      278                              Miami Rhapsody (1995)\n"
          ]
        }
      ]
    },
    {
      "cell_type": "code",
      "source": [
        "import pickle\n",
        "\n",
        "# Modeli kaydet\n",
        "with open('model.pkl', 'wb') as f:\n",
        "    pickle.dump(model, f)"
      ],
      "metadata": {
        "id": "jwk4pKBUmyQs"
      },
      "execution_count": null,
      "outputs": []
    },
    {
      "cell_type": "code",
      "source": [
        "!git remote add origin https://github.com/saintpeterslibiri/movieRecByUserData.git\n",
        "!git branch -M origin\n",
        "!git push -u origin model.pkl"
      ],
      "metadata": {
        "colab": {
          "base_uri": "https://localhost:8080/"
        },
        "id": "ilLj86eZEWG_",
        "outputId": "0c0ac9ac-4278-4170-f759-83e635b42617"
      },
      "execution_count": null,
      "outputs": [
        {
          "output_type": "stream",
          "name": "stdout",
          "text": [
            "fatal: not a git repository (or any of the parent directories): .git\n",
            "fatal: not a git repository (or any of the parent directories): .git\n",
            "fatal: not a git repository (or any of the parent directories): .git\n"
          ]
        }
      ]
    },
    {
      "cell_type": "code",
      "source": [],
      "metadata": {
        "id": "y-iJMhtiNA5e"
      },
      "execution_count": null,
      "outputs": []
    }
  ]
}